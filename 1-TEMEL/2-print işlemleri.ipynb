{
 "cells": [
  {
   "cell_type": "markdown",
   "metadata": {},
   "source": [
    "# print() metodu"
   ]
  },
  {
   "cell_type": "code",
   "execution_count": 1,
   "metadata": {},
   "outputs": [
    {
     "name": "stdout",
     "output_type": "stream",
     "text": [
      "Yusuf Abdullah\n"
     ]
    }
   ],
   "source": [
    "print(\"Yusuf Abdullah\")"
   ]
  },
  {
   "cell_type": "code",
   "execution_count": 2,
   "metadata": {},
   "outputs": [
    {
     "name": "stdout",
     "output_type": "stream",
     "text": [
      "10\n"
     ]
    }
   ],
   "source": [
    "print(10)"
   ]
  },
  {
   "cell_type": "code",
   "execution_count": 3,
   "metadata": {},
   "outputs": [
    {
     "name": "stdout",
     "output_type": "stream",
     "text": [
      "10.2\n"
     ]
    }
   ],
   "source": [
    "print(10.2)"
   ]
  },
  {
   "cell_type": "code",
   "execution_count": 4,
   "metadata": {},
   "outputs": [
    {
     "name": "stdout",
     "output_type": "stream",
     "text": [
      "15\n"
     ]
    }
   ],
   "source": [
    "a = 5\n",
    "b = 10\n",
    "print(a+b)"
   ]
  },
  {
   "cell_type": "markdown",
   "metadata": {},
   "source": [
    "print() içerisine yazılacak birden fazla değişken varsa bunları **virgül (,)** ile ayırarak yazabiliriz."
   ]
  },
  {
   "cell_type": "code",
   "execution_count": 5,
   "metadata": {},
   "outputs": [
    {
     "name": "stdout",
     "output_type": "stream",
     "text": [
      "Yusuf Abdullah 10 20\n"
     ]
    }
   ],
   "source": [
    "print(\"Yusuf\",\"Abdullah\",10,20)"
   ]
  },
  {
   "cell_type": "code",
   "execution_count": 6,
   "metadata": {},
   "outputs": [
    {
     "name": "stdout",
     "output_type": "stream",
     "text": [
      "Yusuf ve Abdullah 12 yaşındadır.\n"
     ]
    }
   ],
   "source": [
    "print(\"Yusuf ve Abdullah\",10+2,\"yaşındadır.\")"
   ]
  },
  {
   "cell_type": "markdown",
   "metadata": {},
   "source": [
    " print() içerisine **\\n** karakteri bırakılırsa bu karakterden sonra gelen elemanlar bir alt satıra yazılır."
   ]
  },
  {
   "cell_type": "code",
   "execution_count": 7,
   "metadata": {},
   "outputs": [
    {
     "name": "stdout",
     "output_type": "stream",
     "text": [
      "Yusuf ile\n",
      "Abdullah\n",
      "dosttur\n"
     ]
    }
   ],
   "source": [
    "print(\"Yusuf ile\\nAbdullah\\ndosttur\")"
   ]
  },
  {
   "cell_type": "code",
   "execution_count": 8,
   "metadata": {},
   "outputs": [],
   "source": [
    "# \\t işlemi"
   ]
  },
  {
   "cell_type": "code",
   "execution_count": 9,
   "metadata": {},
   "outputs": [
    {
     "name": "stdout",
     "output_type": "stream",
     "text": [
      "Allah  en  büyüktür\n"
     ]
    }
   ],
   "source": [
    "print(\"Yusuf Abdullah\")"
   ]
  },
  {
   "cell_type": "code",
   "execution_count": 8,
   "metadata": {},
   "outputs": [
    {
     "name": "stdout",
     "output_type": "stream",
     "text": [
      "Yusuf\t\t\t\tAbdullah\n"
     ]
    }
   ],
   "source": [
    "print(\"Yusuf\\t\\t\\t\\tAbdullah\") #4 kez tab'a basıldı"
   ]
  },
  {
   "cell_type": "markdown",
   "metadata": {},
   "source": [
    "### type() metodu"
   ]
  },
  {
   "cell_type": "markdown",
   "metadata": {},
   "source": [
    "type fonksiyonu ile değişkenlerin tipini öğreniriz."
   ]
  },
  {
   "cell_type": "code",
   "execution_count": 9,
   "metadata": {},
   "outputs": [],
   "source": [
    "a = \"Abdullah\" #string veri tipi\n",
    "y = \"Yusuf\"    #string \n",
    "x = 10      #integer\n",
    "z = 10.5    #float"
   ]
  },
  {
   "cell_type": "code",
   "execution_count": 10,
   "metadata": {},
   "outputs": [
    {
     "name": "stdout",
     "output_type": "stream",
     "text": [
      "<class 'str'>\n"
     ]
    }
   ],
   "source": [
    "print(type(a)) #string veri tipi"
   ]
  },
  {
   "cell_type": "code",
   "execution_count": 11,
   "metadata": {},
   "outputs": [
    {
     "name": "stdout",
     "output_type": "stream",
     "text": [
      "<class 'int'>\n"
     ]
    }
   ],
   "source": [
    "print(type(x)) #integer veri tipi"
   ]
  },
  {
   "cell_type": "code",
   "execution_count": 12,
   "metadata": {},
   "outputs": [
    {
     "name": "stdout",
     "output_type": "stream",
     "text": [
      "<class 'float'>\n"
     ]
    }
   ],
   "source": [
    "print(type(z)) #float veri tipi"
   ]
  },
  {
   "cell_type": "markdown",
   "metadata": {},
   "source": [
    "##### print() metodu özellikleri\n",
    "#### *, sep ve end kullanımları"
   ]
  },
  {
   "cell_type": "code",
   "execution_count": 13,
   "metadata": {},
   "outputs": [
    {
     "name": "stdout",
     "output_type": "stream",
     "text": [
      "İstanbul\n"
     ]
    }
   ],
   "source": [
    "print(\"İstanbul\")"
   ]
  },
  {
   "cell_type": "markdown",
   "metadata": {},
   "source": [
    "print içerisine * işareti yazılırsa herbir karakter arasına varsayılan ayırıcı(seperator) olarak boşluk(space) bırakır."
   ]
  },
  {
   "cell_type": "code",
   "execution_count": 14,
   "metadata": {},
   "outputs": [
    {
     "name": "stdout",
     "output_type": "stream",
     "text": [
      "M e d i n e\n"
     ]
    }
   ],
   "source": [
    "print(*\"Medine\")"
   ]
  },
  {
   "cell_type": "markdown",
   "metadata": {},
   "source": [
    "Karakterler arasındaki bırakılacak ayırıcıyı aşağıdaki gibi **sep=\" \"** operatörü ile belirleyebiliriz."
   ]
  },
  {
   "cell_type": "code",
   "execution_count": 15,
   "metadata": {},
   "outputs": [
    {
     "name": "stdout",
     "output_type": "stream",
     "text": [
      "M-e-d-i-n-e\n"
     ]
    }
   ],
   "source": [
    "#sep işlemi\n",
    "print(*\"Medine\",sep=\"-\")"
   ]
  },
  {
   "cell_type": "markdown",
   "metadata": {},
   "source": [
    "print içerisinde varsayılan olarak  **``end=\"\\n\"``**  operatörü bulunmaktadır. Yani her print() işleminden sonra varsayılan olarak imleç alt satıra geçer. Biz print() içerisinde **end** operatörünü değiştirerek, alt satıra geçmek yerine farklı bir işlem yaptırabiliriz."
   ]
  },
  {
   "cell_type": "code",
   "execution_count": 16,
   "metadata": {},
   "outputs": [
    {
     "name": "stdout",
     "output_type": "stream",
     "text": [
      "Abdullah-Yusuf\n"
     ]
    }
   ],
   "source": [
    "#end işlemi\n",
    "print(\"Abdullah\",end=\"-\")\n",
    "print(\"Yusuf\")"
   ]
  },
  {
   "cell_type": "markdown",
   "metadata": {},
   "source": [
    "#### print() ile çoklu satır yazdırma"
   ]
  },
  {
   "cell_type": "code",
   "execution_count": 17,
   "metadata": {},
   "outputs": [
    {
     "name": "stdout",
     "output_type": "stream",
     "text": [
      "Çoklu yorum satırı kullanarak\n",
      "Birden fazla satır yazdırılabilir.\n"
     ]
    }
   ],
   "source": [
    "print(\"\"\"Çoklu yorum satırı kullanarak\n",
    "Birden fazla satır yazdırılabilir.\"\"\")"
   ]
  },
  {
   "cell_type": "markdown",
   "metadata": {},
   "source": [
    "#### format() metodu kullanımı"
   ]
  },
  {
   "cell_type": "code",
   "execution_count": 18,
   "metadata": {},
   "outputs": [
    {
     "name": "stdout",
     "output_type": "stream",
     "text": [
      "Ahmet isimli kardeş 12 yaşındadır\n"
     ]
    }
   ],
   "source": [
    "yas = 12\n",
    "isim = \"Ahmet\"\n",
    "print(\"{0} isimli kardeş {1} yaşındadır\".format(isim,yas))"
   ]
  },
  {
   "cell_type": "markdown",
   "metadata": {},
   "source": [
    "**(+)** operatörü ile tıpkı **virgül (,)** de olduğu gibi birden fazla değişken yazabiliriz.\n",
    "Ancak + kullanımında tüm elemanların str olmasına dikkat edilmelidir. int türünde değişkeni kabul etmez.\n",
    "int türünde bir ifade kullanılacaksa str'ye çevrilmelidir.\n",
    "\n",
    "+ (+) operatörü genellikle iki str ifadenin birleştirilesinde kullanlırlar."
   ]
  },
  {
   "cell_type": "code",
   "execution_count": 19,
   "metadata": {},
   "outputs": [
    {
     "name": "stdout",
     "output_type": "stream",
     "text": [
      "Yusuf ve Abdullah 12 yaşındadır.\n"
     ]
    }
   ],
   "source": [
    "print(\"Yusuf ve Abdullah \"+str(12)+\" yaşındadır.\")"
   ]
  }
 ],
 "metadata": {
  "kernelspec": {
   "display_name": "Python 3",
   "language": "python",
   "name": "python3"
  },
  "language_info": {
   "codemirror_mode": {
    "name": "ipython",
    "version": 3
   },
   "file_extension": ".py",
   "mimetype": "text/x-python",
   "name": "python",
   "nbconvert_exporter": "python",
   "pygments_lexer": "ipython3",
   "version": "3.8.2"
  }
 },
 "nbformat": 4,
 "nbformat_minor": 2
}
